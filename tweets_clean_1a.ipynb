{
 "cells": [
  {
   "cell_type": "code",
   "execution_count": 1,
   "metadata": {},
   "outputs": [
    {
     "data": {
      "text/plain": [
       "(7302, 3)"
      ]
     },
     "execution_count": 1,
     "metadata": {},
     "output_type": "execute_result"
    }
   ],
   "source": [
    "import pandas as pd\n",
    "df = pd.read_csv('Tweets.csv', sep=',', encoding='latin1')\n",
    "df.shape"
   ]
  },
  {
   "cell_type": "code",
   "execution_count": 2,
   "metadata": {},
   "outputs": [],
   "source": [
    "df = df[~df.text.str.contains(\"contest\")]"
   ]
  },
  {
   "cell_type": "code",
   "execution_count": 3,
   "metadata": {},
   "outputs": [
    {
     "data": {
      "text/plain": [
       "(7284, 3)"
      ]
     },
     "execution_count": 3,
     "metadata": {},
     "output_type": "execute_result"
    }
   ],
   "source": [
    "df.shape"
   ]
  },
  {
   "cell_type": "code",
   "execution_count": 4,
   "metadata": {},
   "outputs": [],
   "source": [
    "df = df[~df.text.str.contains(\"contest\")]"
   ]
  },
  {
   "cell_type": "code",
   "execution_count": 5,
   "metadata": {},
   "outputs": [
    {
     "data": {
      "text/html": [
       "<div>\n",
       "<style scoped>\n",
       "    .dataframe tbody tr th:only-of-type {\n",
       "        vertical-align: middle;\n",
       "    }\n",
       "\n",
       "    .dataframe tbody tr th {\n",
       "        vertical-align: top;\n",
       "    }\n",
       "\n",
       "    .dataframe thead th {\n",
       "        text-align: right;\n",
       "    }\n",
       "</style>\n",
       "<table border=\"1\" class=\"dataframe\">\n",
       "  <thead>\n",
       "    <tr style=\"text-align: right;\">\n",
       "      <th></th>\n",
       "      <th>Date</th>\n",
       "      <th>text</th>\n",
       "      <th>target</th>\n",
       "    </tr>\n",
       "  </thead>\n",
       "  <tbody>\n",
       "    <tr>\n",
       "      <th>0</th>\n",
       "      <td>2018-09-17 11:45:35</td>\n",
       "      <td>\"@zerohedge\\n \\n#iPhoneXS/#iPhoneXSMax PREORDE...</td>\n",
       "      <td>0.0</td>\n",
       "    </tr>\n",
       "    <tr>\n",
       "      <th>1</th>\n",
       "      <td>2018-09-21 8:13:42</td>\n",
       "      <td>A 6.1 inch 720p display in 2018? And they tell...</td>\n",
       "      <td>0.0</td>\n",
       "    </tr>\n",
       "    <tr>\n",
       "      <th>2</th>\n",
       "      <td>2018-09-21 16:03:52</td>\n",
       "      <td>Apple has 'defied gravity' with the iPhone for...</td>\n",
       "      <td>1.0</td>\n",
       "    </tr>\n",
       "    <tr>\n",
       "      <th>3</th>\n",
       "      <td>2018-09-21 18:57:49</td>\n",
       "      <td>Apple is about to change its business model......</td>\n",
       "      <td>0.0</td>\n",
       "    </tr>\n",
       "    <tr>\n",
       "      <th>4</th>\n",
       "      <td>2018-09-17 14:30:34</td>\n",
       "      <td>Despite the ability to perform 5 trillion oper...</td>\n",
       "      <td>0.0</td>\n",
       "    </tr>\n",
       "  </tbody>\n",
       "</table>\n",
       "</div>"
      ],
      "text/plain": [
       "                  Date                                               text  \\\n",
       "0  2018-09-17 11:45:35  \"@zerohedge\\n \\n#iPhoneXS/#iPhoneXSMax PREORDE...   \n",
       "1   2018-09-21 8:13:42  A 6.1 inch 720p display in 2018? And they tell...   \n",
       "2  2018-09-21 16:03:52  Apple has 'defied gravity' with the iPhone for...   \n",
       "3  2018-09-21 18:57:49  Apple is about to change its business model......   \n",
       "4  2018-09-17 14:30:34  Despite the ability to perform 5 trillion oper...   \n",
       "\n",
       "   target  \n",
       "0     0.0  \n",
       "1     0.0  \n",
       "2     1.0  \n",
       "3     0.0  \n",
       "4     0.0  "
      ]
     },
     "execution_count": 5,
     "metadata": {},
     "output_type": "execute_result"
    }
   ],
   "source": [
    "df.head()"
   ]
  },
  {
   "cell_type": "code",
   "execution_count": 6,
   "metadata": {},
   "outputs": [],
   "source": [
    "from tqdm import tqdm\n",
    "import numpy as np"
   ]
  },
  {
   "cell_type": "code",
   "execution_count": 9,
   "metadata": {},
   "outputs": [
    {
     "name": "stderr",
     "output_type": "stream",
     "text": [
      "C:\\ProgramData\\Anaconda3\\lib\\site-packages\\fuzzywuzzy\\fuzz.py:11: UserWarning: Using slow pure-python SequenceMatcher. Install python-Levenshtein to remove this warning\n",
      "  warnings.warn('Using slow pure-python SequenceMatcher. Install python-Levenshtein to remove this warning')\n"
     ]
    }
   ],
   "source": [
    "from fuzzywuzzy import fuzz\n",
    "from fuzzywuzzy import process"
   ]
  },
  {
   "cell_type": "code",
   "execution_count": 36,
   "metadata": {},
   "outputs": [],
   "source": [
    "text = [i for i in reversed(list(df['text'][7010:7110]))]"
   ]
  },
  {
   "cell_type": "code",
   "execution_count": 30,
   "metadata": {},
   "outputs": [],
   "source": [
    "def replace_element(YOUR_LIST, value, set_to='to_be_replaced'):\n",
    "    return [i if i != value else set_to for i in YOUR_LIST]"
   ]
  },
  {
   "cell_type": "code",
   "execution_count": 31,
   "metadata": {
    "scrolled": true
   },
   "outputs": [
    {
     "name": "stderr",
     "output_type": "stream",
     "text": [
      "100%|████████████████████████████████████████████████████████████████████████████████| 100/100 [00:39<00:00,  4.15it/s]\n"
     ]
    }
   ],
   "source": [
    "groups = {}\n",
    "for i in text:\n",
    "    groups[i] = []\n",
    "    \n",
    "for i in tqdm(range(len(text))):\n",
    "    try:\n",
    "        for j in range(len(text)-50, len(text)):\n",
    "            if fuzz.partial_ratio(text[i], text[j]) >= 70 and text[i] in groups.keys() and text[i]!=text[j]:\n",
    "                if text[j] not in groups[text[i]]:\n",
    "                    groups[text[i]].append(text[j])\n",
    "                    del groups[text[j]]\n",
    "    except:\n",
    "        continue\n",
    "    "
   ]
  },
  {
   "cell_type": "code",
   "execution_count": 35,
   "metadata": {
    "scrolled": false
   },
   "outputs": [
    {
     "name": "stdout",
     "output_type": "stream",
     "text": [
      "['Wonderful Luminous Pattern Tempered glass cases for iPhone X XS MAX ==&gt; '\n",
      " 'https://t.co/uS3ZwdRyxg ?\\n'\n",
      " '#phonecases #phonecase #iphonecase #iphonexcases #iphonexs #iPhoneXSMax '\n",
      " '#phoneaccessories #phonecover #phonebags https://t.co/RgTRqy5HrT',\n",
      " 'Wonderful Luminous Pattern Tempered glass cases for iPhone X XS MAX ==&gt; '\n",
      " 'https://t.co/uOpyAQMgA5 ?\\n'\n",
      " '#phonecases #phonecase #iphonecase #iphonexcases #iphonexs #iPhoneXSMax '\n",
      " '#phoneaccessories #phonecover #phonebags https://t.co/JgcmdjQQ9E',\n",
      " 'Wonderful Luminous Pattern Tempered glass cases for iPhone X XS MAX ==&gt; '\n",
      " 'https://t.co/Rle20nABko\\n'\n",
      " '#phonecases #phonecase #iphonecase #iphonexcases #iphonexs #iPhoneXSMax '\n",
      " 'https://t.co/yck0ZO60B8',\n",
      " 'Wonderful Luminous Pattern Tempered glass cases for iPhone X XS MAX ==&gt; '\n",
      " 'https://t.co/o5okQfSAqA ?\\n'\n",
      " '#phonecases #phonecase #iphonecase #iphonexcases #iphonexs #iPhoneXSMax '\n",
      " '#phoneaccessories #phonecover #phonebags https://t.co/EwgdNvvtW6',\n",
      " 'Wonderful Luminous Pattern Tempered glass cases for iPhone X XS MAX ==&gt; '\n",
      " 'https://t.co/kuNWEWY7Tn ?\\n'\n",
      " '#phonecases #phonecase #iphonecase #iphonexcases #iphonexs #iPhoneXSMax '\n",
      " '#phoneaccessories #phonecover #phonebags https://t.co/m3KqpY8KKY',\n",
      " 'Wonderful Luminous Pattern Tempered glass cases for iPhone X XS MAX ==&gt; '\n",
      " 'https://t.co/K4bpFxyo9B ?\\n'\n",
      " '#phonecases #phonecase #iphonecase #iphonexcases #iphonexs #iPhoneXSMax '\n",
      " '#phoneaccessories #phonecover #phonebags https://t.co/1IApyUeynu',\n",
      " 'Wonderful Luminous Pattern Tempered glass cases for iPhone X XS MAX ==&gt; '\n",
      " 'https://t.co/jIvl8vl7Yy ?\\n'\n",
      " '#phonecases #phonecase #iphonecase #iphonexcases #iphonexs #iPhoneXSMax '\n",
      " '#phoneaccessories #phonecover #phonebags https://t.co/ypn7i03Xgd',\n",
      " 'Wonderful Luminous Pattern Tempered glass cases for iPhone X XS MAX ==&gt; '\n",
      " 'https://t.co/j4HVTm6qPU ?\\n'\n",
      " '#phonecases #phonecase #iphonecase #iphonexcases #iphonexs #iPhoneXSMax '\n",
      " '#phoneaccessories #phonecover #phonebags https://t.co/XTZhkpLnBG']\n",
      "88\n"
     ]
    }
   ],
   "source": [
    "from pprint import pprint\n",
    "\n",
    "for i in groups:\n",
    "    if len(groups[i])>5:\n",
    "        pprint(groups[i])\n",
    "pprint(len(groups))"
   ]
  },
  {
   "cell_type": "code",
   "execution_count": 26,
   "metadata": {},
   "outputs": [
    {
     "name": "stdout",
     "output_type": "stream",
     "text": [
      "140 133\n"
     ]
    }
   ],
   "source": [
    "print(len(text), len(text2))"
   ]
  },
  {
   "cell_type": "code",
   "execution_count": null,
   "metadata": {},
   "outputs": [],
   "source": [
    "print(text2)"
   ]
  },
  {
   "cell_type": "code",
   "execution_count": null,
   "metadata": {},
   "outputs": [],
   "source": [
    "groups[list(groups.keys())[3]]\n"
   ]
  }
 ],
 "metadata": {
  "kernelspec": {
   "display_name": "Python 3",
   "language": "python",
   "name": "python3"
  },
  "language_info": {
   "codemirror_mode": {
    "name": "ipython",
    "version": 3
   },
   "file_extension": ".py",
   "mimetype": "text/x-python",
   "name": "python",
   "nbconvert_exporter": "python",
   "pygments_lexer": "ipython3",
   "version": "3.6.6"
  }
 },
 "nbformat": 4,
 "nbformat_minor": 2
}
